{
 "cells": [
  {
   "cell_type": "markdown",
   "metadata": {},
   "source": [
    "Case Distribution and Status:\n",
    "\n",
    "    How many filed cases are there in the dataset?\n",
    "    What is the distribution of case outcomes (resolved, pending, etc.)?\n",
    "\n",
    "Case Age and Resolution Time:\n",
    "\n",
    "    What is the average time a case spends in court before being resolved?\n",
    "    Can we identify any trends or patterns in case resolution time based on case type (criminal or civil)?\n",
    "\n",
    "Reasons for Adjournment:\n",
    "\n",
    "    What are the most common reasons for case adjournment in the dataset?\n",
    "\n",
    "    Is there a relationship between the reasons for adjournment and case outcomes?\n",
    "\n",
    "Comparative Analysis:\n",
    "\n",
    "    Are there any significant differences in case age and resolution times between criminal and civil cases based on the \"coming for\" category?\n",
    "\n",
    "    Do specific \"coming for\" categories lead to quicker or more successful case resolutions?\n",
    "\n"
   ]
  },
  {
   "cell_type": "code",
   "execution_count": 1,
   "metadata": {
    "ExecuteTime": {
     "end_time": "2023-11-14T10:17:01.401266Z",
     "start_time": "2023-11-14T10:17:00.977118Z"
    }
   },
   "outputs": [],
   "source": [
    "#load the necessary libraries\n",
    "import pandas as pd\n",
    "import time\n",
    "import seaborn as sns\n",
    "import numpy as np\n",
    "import seaborn as sns\n",
    "import matplotlib.pyplot as plt"
   ]
  },
  {
   "cell_type": "code",
   "execution_count": 2,
   "metadata": {
    "ExecuteTime": {
     "end_time": "2023-11-15T03:47:25.975424Z",
     "start_time": "2023-11-15T03:47:24.308362Z"
    }
   },
   "outputs": [],
   "source": [
    "original_df = pd.read_csv('./data/dummy.csv', dtype=str)"
   ]
  },
  {
   "cell_type": "code",
   "execution_count": 3,
   "metadata": {
    "ExecuteTime": {
     "end_time": "2023-11-15T04:16:53.363907Z",
     "start_time": "2023-11-15T04:16:53.262209Z"
    }
   },
   "outputs": [],
   "source": [
    "df = original_df.copy()"
   ]
  },
  {
   "cell_type": "code",
   "execution_count": 4,
   "metadata": {},
   "outputs": [
    {
     "data": {
      "text/plain": [
       "Index(['court_name', 'date_dd', 'date_mon', 'date_yyyy', 'caseid_type',\n",
       "       'caseid_no', 'filed_dd', 'filed_mon', 'filed_yyyy', 'origcourt',\n",
       "       'appeal_type', 'appeal_no', 'appeal_yyyy', 'case_type', 'bench_1',\n",
       "       'bench_2', 'bench_3', 'bench_4', 'bench_5', 'bench_6', 'bench_7',\n",
       "       'comingfor', 'outcome', 'reason_adj', 'next_dd', 'next_mon',\n",
       "       'next_yyyy', 'firstparty_m', 'firstparty_f', 'firstparty_org',\n",
       "       'secondparty_m', 'secondparty_f', 'secondparty_o', 'legalrep',\n",
       "       'p_witness', 'd_witness', 'custody', 'other_details'],\n",
       "      dtype='object')"
      ]
     },
     "execution_count": 4,
     "metadata": {},
     "output_type": "execute_result"
    }
   ],
   "source": [
    "df.columns"
   ]
  },
  {
   "cell_type": "markdown",
   "metadata": {},
   "source": [
    "### Case Distribution and Status:\n",
    "1. How many filed cases are there in the dataset?"
   ]
  },
  {
   "cell_type": "code",
   "execution_count": 35,
   "metadata": {
    "ExecuteTime": {
     "end_time": "2023-11-14T10:17:28.629426Z",
     "start_time": "2023-11-14T10:17:28.623624Z"
    }
   },
   "outputs": [],
   "source": [
    "#Function to inspect the data for duplicates\n",
    "def remove_duplicates(data: pd.DataFrame) -> pd.DataFrame:\n",
    "    \n",
    "    if data.duplicated().any():\n",
    "        num_duplicates = data.duplicated().sum()\n",
    "        print(f\"{num_duplicates} duplicates found.\")\n",
    "        \n",
    "        data.drop_duplicates(keep=\"first\", inplace=True)\n",
    "        data.reset_index(drop=True, inplace=True)\n",
    "        \n",
    "        print(f\"{num_duplicates} Duplicates removed.\")\n",
    "    else:\n",
    "        print(\"No duplicates found.\")\n",
    "\n",
    "    return data"
   ]
  },
  {
   "cell_type": "code",
   "execution_count": 36,
   "metadata": {
    "ExecuteTime": {
     "end_time": "2023-11-15T04:17:01.180977Z",
     "start_time": "2023-11-15T04:16:58.311605Z"
    }
   },
   "outputs": [
    {
     "name": "stdout",
     "output_type": "stream",
     "text": [
      "5617 duplicates found.\n",
      "5617 Duplicates removed.\n"
     ]
    }
   ],
   "source": [
    "### Identify and remove duplicates\n",
    "df = remove_duplicates(df)"
   ]
  },
  {
   "cell_type": "code",
   "execution_count": 37,
   "metadata": {
    "ExecuteTime": {
     "end_time": "2023-11-15T04:17:06.864144Z",
     "start_time": "2023-11-15T04:17:06.614644Z"
    }
   },
   "outputs": [],
   "source": [
    "#Create a unique case identifier\n",
    "df[\"case_num\"] = df ['court_name'] + \"-\" + df[\"caseid_type\"]+ \"-\" + df[\"caseid_no\"].astype(str) + \"/\" + df[\"filed_yyyy\"].astype(str)"
   ]
  },
  {
   "cell_type": "markdown",
   "metadata": {},
   "source": [
    "#### outcomes that represent status of a case either registered or resolved"
   ]
  },
  {
   "cell_type": "code",
   "execution_count": 38,
   "metadata": {
    "ExecuteTime": {
     "end_time": "2023-11-14T10:22:31.264605Z",
     "start_time": "2023-11-14T10:22:31.261481Z"
    }
   },
   "outputs": [],
   "source": [
    "new_case_outcome = ['RETRIAL', 'CASE REACTIVATED', 'CASE REGISTERED/FILED']\n",
    "final_outcome = ['ABATED', 'CONSOLIDATED- CASE CLOSED', 'CONVICTION', 'RULING-CASE CLOSED', 'GRANT CONFIRMED', 'DISMISSED', 'SENTENCED', 'OUT OF COURT SETTLEMENT', 'CONSENT RECORDED- CASE CLOSED',\n",
    "    'MATTER WITHDRAWN', 'JUDGMENT DELIVERED', 'FILE TRANSFERED', 'ACQUITTAL', 'LIMITED GRANT ISSUED', 'GRANT REVOKED'\n",
    "]"
   ]
  },
  {
   "cell_type": "markdown",
   "metadata": {},
   "source": [
    "### Create a function to group the cases into pending, registered or concluded"
   ]
  },
  {
   "cell_type": "code",
   "execution_count": 39,
   "metadata": {
    "ExecuteTime": {
     "end_time": "2023-11-14T10:22:39.571628Z",
     "start_time": "2023-11-14T10:22:39.566334Z"
    }
   },
   "outputs": [],
   "source": [
    "def categorize_outcome(df: pd.DataFrame, filed: list, resolved: list) -> pd.DataFrame:\n",
    "    conditions = [\n",
    "        df['outcome'].isin(filed),\n",
    "        df['outcome'].isin(resolved)\n",
    "    ]\n",
    "    choices = ['Registered', 'Resolved']\n",
    "    df['outcome_category'] = np.select(conditions, choices, default=\"None\")\n",
    "    return df"
   ]
  },
  {
   "cell_type": "code",
   "execution_count": 40,
   "metadata": {
    "ExecuteTime": {
     "end_time": "2023-11-15T04:17:20.723687Z",
     "start_time": "2023-11-15T04:17:20.648783Z"
    }
   },
   "outputs": [],
   "source": [
    "df = categorize_outcome(df, new_case_outcome, final_outcome)"
   ]
  },
  {
   "cell_type": "code",
   "execution_count": 41,
   "metadata": {
    "ExecuteTime": {
     "end_time": "2023-11-15T03:48:07.297381Z",
     "start_time": "2023-11-15T03:48:07.254579Z"
    }
   },
   "outputs": [
    {
     "data": {
      "text/plain": [
       "outcome_category\n",
       "None          550037\n",
       "Registered    124115\n",
       "Resolved      114269\n",
       "Name: count, dtype: int64"
      ]
     },
     "execution_count": 41,
     "metadata": {},
     "output_type": "execute_result"
    }
   ],
   "source": [
    "df['outcome_category'].value_counts()"
   ]
  },
  {
   "cell_type": "code",
   "execution_count": 42,
   "metadata": {},
   "outputs": [],
   "source": [
    "df2= df.copy()"
   ]
  },
  {
   "cell_type": "code",
   "execution_count": 43,
   "metadata": {},
   "outputs": [],
   "source": [
    "df2.drop_duplicates(subset=['case_num', 'outcome_category'], keep='first', inplace=True)"
   ]
  },
  {
   "cell_type": "code",
   "execution_count": 44,
   "metadata": {},
   "outputs": [
    {
     "data": {
      "text/plain": [
       "outcome_category\n",
       "None          153204\n",
       "Registered    122335\n",
       "Resolved      109021\n",
       "Name: count, dtype: int64"
      ]
     },
     "execution_count": 44,
     "metadata": {},
     "output_type": "execute_result"
    }
   ],
   "source": [
    "df2['outcome_category'].value_counts()"
   ]
  },
  {
   "cell_type": "code",
   "execution_count": 18,
   "metadata": {},
   "outputs": [],
   "source": [
    "#Create a column to for a resolve case which had multiple cases events \n",
    "dfs['case_status'] = df2.groupby(['case_num'])['outcome_category'].transform(lambda x: 'Closed' if 'Resolved' in x.values else 'Active')"
   ]
  },
  {
   "cell_type": "code",
   "execution_count": null,
   "metadata": {},
   "outputs": [],
   "source": [
    "df['case_status'].value_counts()"
   ]
  },
  {
   "cell_type": "code",
   "execution_count": 22,
   "metadata": {},
   "outputs": [
    {
     "data": {
      "text/plain": [
       "case_status\n",
       "Closed    109021\n",
       "Name: count, dtype: int64"
      ]
     },
     "execution_count": 22,
     "metadata": {},
     "output_type": "execute_result"
    }
   ],
   "source": [
    "resolved_df = df[df['case_status'] == \"Closed\"].drop_duplicates(subset=['case_num'], keep='first')\n",
    "resolved_df['case_status'].value_counts()"
   ]
  },
  {
   "cell_type": "code",
   "execution_count": 23,
   "metadata": {},
   "outputs": [
    {
     "data": {
      "text/plain": [
       "case_status\n",
       "Active    118965\n",
       "Name: count, dtype: int64"
      ]
     },
     "execution_count": 23,
     "metadata": {},
     "output_type": "execute_result"
    }
   ],
   "source": [
    "pending_df = df[df['case_status'] == \"Active\"].drop_duplicates(subset=['case_num'], keep='first')\n",
    "pending_df['case_status'].value_counts()"
   ]
  },
  {
   "cell_type": "code",
   "execution_count": 31,
   "metadata": {},
   "outputs": [
    {
     "ename": "NameError",
     "evalue": "name 'pending_df' is not defined",
     "output_type": "error",
     "traceback": [
      "\u001b[0;31m---------------------------------------------------------------------------\u001b[0m",
      "\u001b[0;31mNameError\u001b[0m                                 Traceback (most recent call last)",
      "\u001b[1;32m/home/fiend/Documents/moringa/data_science/moringa_capstone.ipynb Cell 20\u001b[0m line \u001b[0;36m1\n\u001b[0;32m----> <a href='vscode-notebook-cell:/home/fiend/Documents/moringa/data_science/moringa_capstone.ipynb#X25sZmlsZQ%3D%3D?line=0'>1</a>\u001b[0m pending_df[\u001b[39m'\u001b[39m\u001b[39moutcome_category\u001b[39m\u001b[39m'\u001b[39m]\u001b[39m.\u001b[39mvalue_counts()\n",
      "\u001b[0;31mNameError\u001b[0m: name 'pending_df' is not defined"
     ]
    }
   ],
   "source": [
    "pending_df['outcome_category'].value_counts()"
   ]
  },
  {
   "cell_type": "code",
   "execution_count": 24,
   "metadata": {},
   "outputs": [],
   "source": [
    "clean_df = df.drop_duplicates(subset=['case_num'], keep='first')\n"
   ]
  },
  {
   "cell_type": "code",
   "execution_count": 30,
   "metadata": {},
   "outputs": [
    {
     "ename": "NameError",
     "evalue": "name 'clean_df' is not defined",
     "output_type": "error",
     "traceback": [
      "\u001b[0;31m---------------------------------------------------------------------------\u001b[0m",
      "\u001b[0;31mNameError\u001b[0m                                 Traceback (most recent call last)",
      "\u001b[1;32m/home/fiend/Documents/moringa/data_science/moringa_capstone.ipynb Cell 22\u001b[0m line \u001b[0;36m1\n\u001b[0;32m----> <a href='vscode-notebook-cell:/home/fiend/Documents/moringa/data_science/moringa_capstone.ipynb#X30sZmlsZQ%3D%3D?line=0'>1</a>\u001b[0m clean_df[\u001b[39m'\u001b[39m\u001b[39moutcome_category\u001b[39m\u001b[39m'\u001b[39m]\u001b[39m.\u001b[39mvalue_counts()\n",
      "\u001b[0;31mNameError\u001b[0m: name 'clean_df' is not defined"
     ]
    }
   ],
   "source": [
    "clean_df['outcome_category'].value_counts()"
   ]
  },
  {
   "cell_type": "code",
   "execution_count": 26,
   "metadata": {},
   "outputs": [
    {
     "data": {
      "image/png": "[encoded data removed]",
      "text/plain": [
       "<Figure size 640x480 with 1 Axes>"
      ]
     },
     "metadata": {},
     "output_type": "display_data"
    }
   ],
   "source": [
    "quarters = ['q1', 'q2', 'q3', 'q4']\n",
    "sales = [200, 150, 400, 300]\n",
    "sales_df = pd.DataFrame({\n",
    "    'quarters': quarters,\n",
    "    'sales': sales\n",
    "})\n",
    "sns.set_style('darkgrid')\n",
    "sns.barplot(x='quarters', y='sales', alpha=0.8, data=sales_df)\n",
    "plt.show()"
   ]
  },
  {
   "cell_type": "code",
   "execution_count": 27,
   "metadata": {},
   "outputs": [
    {
     "data": {
      "text/html": [
       "<div>\n",
       "<style scoped>\n",
       "    .dataframe tbody tr th:only-of-type {\n",
       "        vertical-align: middle;\n",
       "    }\n",
       "\n",
       "    .dataframe tbody tr th {\n",
       "        vertical-align: top;\n",
       "    }\n",
       "\n",
       "    .dataframe thead th {\n",
       "        text-align: right;\n",
       "    }\n",
       "</style>\n",
       "<table border=\"1\" class=\"dataframe\">\n",
       "  <thead>\n",
       "    <tr style=\"text-align: right;\">\n",
       "      <th></th>\n",
       "      <th>quarters</th>\n",
       "      <th>sales</th>\n",
       "    </tr>\n",
       "  </thead>\n",
       "  <tbody>\n",
       "    <tr>\n",
       "      <th>0</th>\n",
       "      <td>q1</td>\n",
       "      <td>200</td>\n",
       "    </tr>\n",
       "    <tr>\n",
       "      <th>1</th>\n",
       "      <td>q2</td>\n",
       "      <td>150</td>\n",
       "    </tr>\n",
       "    <tr>\n",
       "      <th>2</th>\n",
       "      <td>q3</td>\n",
       "      <td>400</td>\n",
       "    </tr>\n",
       "    <tr>\n",
       "      <th>3</th>\n",
       "      <td>q4</td>\n",
       "      <td>300</td>\n",
       "    </tr>\n",
       "  </tbody>\n",
       "</table>\n",
       "</div>"
      ],
      "text/plain": [
       "  quarters  sales\n",
       "0       q1    200\n",
       "1       q2    150\n",
       "2       q3    400\n",
       "3       q4    300"
      ]
     },
     "execution_count": 27,
     "metadata": {},
     "output_type": "execute_result"
    }
   ],
   "source": [
    "sales_df"
   ]
  },
  {
   "cell_type": "code",
   "execution_count": 48,
   "metadata": {},
   "outputs": [
    {
     "data": {
      "text/plain": [
       "case_status\n",
       "Active    118965\n",
       "Closed    109021\n",
       "Name: case_status, dtype: int64"
      ]
     },
     "execution_count": 48,
     "metadata": {},
     "output_type": "execute_result"
    }
   ],
   "source": [
    "status_df"
   ]
  },
  {
   "cell_type": "code",
   "execution_count": 29,
   "metadata": {},
   "outputs": [
    {
     "ename": "NameError",
     "evalue": "name 'plot_df' is not defined",
     "output_type": "error",
     "traceback": [
      "\u001b[0;31m---------------------------------------------------------------------------\u001b[0m",
      "\u001b[0;31mNameError\u001b[0m                                 Traceback (most recent call last)",
      "\u001b[1;32m/home/fiend/Documents/moringa/data_science/moringa_capstone.ipynb Cell 26\u001b[0m line \u001b[0;36m1\n\u001b[0;32m----> <a href='vscode-notebook-cell:/home/fiend/Documents/moringa/data_science/moringa_capstone.ipynb#X50sZmlsZQ%3D%3D?line=0'>1</a>\u001b[0m \u001b[39mtype\u001b[39m(plot_df)\n",
      "\u001b[0;31mNameError\u001b[0m: name 'plot_df' is not defined"
     ]
    }
   ],
   "source": [
    "type(plot_df)"
   ]
  },
  {
   "cell_type": "code",
   "execution_count": 35,
   "metadata": {},
   "outputs": [
    {
     "ename": "ValueError",
     "evalue": "not enough values to unpack (expected 2, got 0)",
     "output_type": "error",
     "traceback": [
      "\u001b[0;31m---------------------------------------------------------------------------\u001b[0m",
      "\u001b[0;31mValueError\u001b[0m                                Traceback (most recent call last)",
      "\u001b[1;32m/home/fiend/Documents/moringa/data_science/moringa_capstone.ipynb Cell 22\u001b[0m line \u001b[0;36m3\n\u001b[1;32m      <a href='vscode-notebook-cell:/home/fiend/Documents/moringa/data_science/moringa_capstone.ipynb#X35sZmlsZQ%3D%3D?line=0'>1</a>\u001b[0m plot_df \u001b[39m=\u001b[39m clean_df[\u001b[39m'\u001b[39m\u001b[39mcase_status\u001b[39m\u001b[39m'\u001b[39m]\u001b[39m.\u001b[39mvalue_counts()\n\u001b[0;32m----> <a href='vscode-notebook-cell:/home/fiend/Documents/moringa/data_science/moringa_capstone.ipynb#X35sZmlsZQ%3D%3D?line=2'>3</a>\u001b[0m fig, ax1 \u001b[39m=\u001b[39m plt\u001b[39m.\u001b[39mplot(figsize\u001b[39m=\u001b[39m(\u001b[39m10\u001b[39m, \u001b[39m10\u001b[39m))\n\u001b[1;32m      <a href='vscode-notebook-cell:/home/fiend/Documents/moringa/data_science/moringa_capstone.ipynb#X35sZmlsZQ%3D%3D?line=3'>4</a>\u001b[0m sns\u001b[39m.\u001b[39mbarplot(x\u001b[39m=\u001b[39m\u001b[39m'\u001b[39m\u001b[39mCategory\u001b[39m\u001b[39m'\u001b[39m, y\u001b[39m=\u001b[39m\u001b[39m'\u001b[39m\u001b[39mTotal\u001b[39m\u001b[39m'\u001b[39m, hue\u001b[39m=\u001b[39m\u001b[39m'\u001b[39m\u001b[39mCategory\u001b[39m\u001b[39m'\u001b[39m, data\u001b[39m=\u001b[39mplot_df, ax\u001b[39m=\u001b[39max1)\n\u001b[1;32m      <a href='vscode-notebook-cell:/home/fiend/Documents/moringa/data_science/moringa_capstone.ipynb#X35sZmlsZQ%3D%3D?line=4'>5</a>\u001b[0m sns\u001b[39m.\u001b[39mdespine(fig\u001b[39m=\u001b[39mfig)\n",
      "\u001b[0;31mValueError\u001b[0m: not enough values to unpack (expected 2, got 0)"
     ]
    },
    {
     "data": {
      "image/png": "[encoded data removed]",
      "text/plain": [
       "<Figure size 640x480 with 1 Axes>"
      ]
     },
     "metadata": {},
     "output_type": "display_data"
    }
   ],
   "source": [
    "plot_df = clean_df['case_status'].value_counts()\n",
    "\n",
    "fig, ax1 = plt.plot(figsize=(10, 10))\n",
    "sns.barplot(x='Category', y='Total', hue='Category', data=plot_df, ax=ax1)\n",
    "sns.despine(fig=fig)\n",
    "\n",
    "ax = sns.barplot(x = 'categories', y = 'frequency', data = category_df)"
   ]
  },
  {
   "cell_type": "code",
   "execution_count": 30,
   "metadata": {},
   "outputs": [],
   "source": [
    "plot_df = clean_df['case_status'].value_counts()"
   ]
  },
  {
   "cell_type": "code",
   "execution_count": 33,
   "metadata": {},
   "outputs": [
    {
     "data": {
      "text/plain": [
       "case_status\n",
       "Active    118965\n",
       "Closed    109021\n",
       "Name: count, dtype: int64"
      ]
     },
     "execution_count": 33,
     "metadata": {},
     "output_type": "execute_result"
    }
   ],
   "source": [
    "plot_df"
   ]
  },
  {
   "cell_type": "code",
   "execution_count": null,
   "metadata": {},
   "outputs": [],
   "source": [
    "tidy = df.melt(id_vars='Factor').rename(columns=str.title)\n"
   ]
  },
  {
   "cell_type": "code",
   "execution_count": 27,
   "metadata": {},
   "outputs": [
    {
     "data": {
      "text/html": [
       "<div>\n",
       "<style scoped>\n",
       "    .dataframe tbody tr th:only-of-type {\n",
       "        vertical-align: middle;\n",
       "    }\n",
       "\n",
       "    .dataframe tbody tr th {\n",
       "        vertical-align: top;\n",
       "    }\n",
       "\n",
       "    .dataframe thead th {\n",
       "        text-align: right;\n",
       "    }\n",
       "</style>\n",
       "<table border=\"1\" class=\"dataframe\">\n",
       "  <thead>\n",
       "    <tr style=\"text-align: right;\">\n",
       "      <th></th>\n",
       "      <th>Factor</th>\n",
       "      <th>Weight</th>\n",
       "      <th>Variance</th>\n",
       "    </tr>\n",
       "  </thead>\n",
       "  <tbody>\n",
       "    <tr>\n",
       "      <th>0</th>\n",
       "      <td>Growth</td>\n",
       "      <td>0.1</td>\n",
       "      <td>0.15</td>\n",
       "    </tr>\n",
       "    <tr>\n",
       "      <th>1</th>\n",
       "      <td>Value</td>\n",
       "      <td>0.2</td>\n",
       "      <td>0.35</td>\n",
       "    </tr>\n",
       "  </tbody>\n",
       "</table>\n",
       "</div>"
      ],
      "text/plain": [
       "   Factor  Weight  Variance\n",
       "0  Growth     0.1      0.15\n",
       "1   Value     0.2      0.35"
      ]
     },
     "execution_count": 27,
     "metadata": {},
     "output_type": "execute_result"
    }
   ],
   "source": [
    "example_df = pd.DataFrame({\n",
    "    'Factor': ['Growth', 'Value'],\n",
    "    'Weight': [0.10, 0.20],\n",
    "    'Variance': [0.15, 0.35]\n",
    "})\n",
    "example_df"
   ]
  },
  {
   "cell_type": "code",
   "execution_count": null,
   "metadata": {},
   "outputs": [],
   "source": [
    "fig, ax1 = pyplot.subplots(figsize=(10, 10))\n",
    "tidy = df.melt(id_vars='Factor').rename(columns=str.title)\n",
    "seaborn.barplot(x='Factor', y='Value', hue='Variable', data=tidy, ax=ax1)\n",
    "seaborn.despine(fig)"
   ]
  },
  {
   "cell_type": "code",
   "execution_count": 29,
   "metadata": {},
   "outputs": [
    {
     "data": {
      "text/html": [
       "<div>\n",
       "<style scoped>\n",
       "    .dataframe tbody tr th:only-of-type {\n",
       "        vertical-align: middle;\n",
       "    }\n",
       "\n",
       "    .dataframe tbody tr th {\n",
       "        vertical-align: top;\n",
       "    }\n",
       "\n",
       "    .dataframe thead th {\n",
       "        text-align: right;\n",
       "    }\n",
       "</style>\n",
       "<table border=\"1\" class=\"dataframe\">\n",
       "  <thead>\n",
       "    <tr style=\"text-align: right;\">\n",
       "      <th></th>\n",
       "      <th>Factor</th>\n",
       "      <th>Variable</th>\n",
       "      <th>Value</th>\n",
       "    </tr>\n",
       "  </thead>\n",
       "  <tbody>\n",
       "    <tr>\n",
       "      <th>0</th>\n",
       "      <td>Growth</td>\n",
       "      <td>Weight</td>\n",
       "      <td>0.10</td>\n",
       "    </tr>\n",
       "    <tr>\n",
       "      <th>1</th>\n",
       "      <td>Value</td>\n",
       "      <td>Weight</td>\n",
       "      <td>0.20</td>\n",
       "    </tr>\n",
       "    <tr>\n",
       "      <th>2</th>\n",
       "      <td>Growth</td>\n",
       "      <td>Variance</td>\n",
       "      <td>0.15</td>\n",
       "    </tr>\n",
       "    <tr>\n",
       "      <th>3</th>\n",
       "      <td>Value</td>\n",
       "      <td>Variance</td>\n",
       "      <td>0.35</td>\n",
       "    </tr>\n",
       "  </tbody>\n",
       "</table>\n",
       "</div>"
      ],
      "text/plain": [
       "   Factor  Variable  Value\n",
       "0  Growth    Weight   0.10\n",
       "1   Value    Weight   0.20\n",
       "2  Growth  Variance   0.15\n",
       "3   Value  Variance   0.35"
      ]
     },
     "execution_count": 29,
     "metadata": {},
     "output_type": "execute_result"
    }
   ],
   "source": [
    "tidy = example_df.melt(id_vars='Factor').rename(columns=str.title)\n",
    "tidy"
   ]
  },
  {
   "cell_type": "markdown",
   "metadata": {},
   "source": [
    "### Case Age and Resolution Time:\n",
    "1. What is the average time a case spends in court before being resolved?\n",
    "2. Can we identify any trends or patterns in case resolution time based on case type (criminal or civil)?\n"
   ]
  },
  {
   "cell_type": "code",
   "execution_count": null,
   "metadata": {},
   "outputs": [],
   "source": []
  },
  {
   "cell_type": "markdown",
   "metadata": {},
   "source": [
    "### Reasons for adjournment\n",
    "**Crosstab case type and total adjournments**"
   ]
  },
  {
   "cell_type": "code",
   "execution_count": null,
   "metadata": {},
   "outputs": [],
   "source": []
  }
 ],
 "metadata": {
  "kernelspec": {
   "display_name": "Python 3 (ipykernel)",
   "language": "python",
   "name": "python3"
  },
  "language_info": {
   "codemirror_mode": {
    "name": "ipython",
    "version": 3
   },
   "file_extension": ".py",
   "mimetype": "text/x-python",
   "name": "python",
   "nbconvert_exporter": "python",
   "pygments_lexer": "ipython3",
   "version": "3.11.5"
  }
 },
 "nbformat": 4,
 "nbformat_minor": 2
}
